{
  "nbformat": 4,
  "nbformat_minor": 0,
  "metadata": {
    "colab": {
      "provenance": [],
      "gpuType": "T4"
    },
    "kernelspec": {
      "name": "python3",
      "display_name": "Python 3"
    },
    "language_info": {
      "name": "python"
    },
    "accelerator": "GPU"
  },
  "cells": [
    {
      "cell_type": "markdown",
      "source": [
        "# SEC Filings Data Retrieval for RAG\n",
        "\n",
        "### Step 1: Library Imports and API Key Configuration\n",
        "\n",
        "The first step is to import all the required libraries and set up our API key.\n",
        "\n",
        "- `userdata`: Used to securely access the SEC API key stored in Google Colab.\n",
        "- `sec_api`: The main library for querying and extracting data from SEC filings.\n",
        "- `os`: To interact with the file system, specifically for saving the extracted data.\n",
        "\n",
        "The `sec_api_key` is retrieved from Colab's secret manager."
      ],
      "metadata": {
        "id": "DQrp7I6M3HRo"
      }
    },
    {
      "cell_type": "code",
      "source": [
        "from google.colab import userdata\n",
        "from sec_api import ExtractorApi, QueryApi # !pip install sec_api -q\n",
        "import os"
      ],
      "metadata": {
        "id": "KhBdgMTZRtal"
      },
      "execution_count": 16,
      "outputs": []
    },
    {
      "cell_type": "code",
      "source": [
        "from google.colab import userdata\n",
        "sec_api_key = userdata.get('secdata')"
      ],
      "metadata": {
        "id": "5-HbE2b7W273"
      },
      "execution_count": 17,
      "outputs": []
    },
    {
      "cell_type": "markdown",
      "source": [
        "### 2. Define the Data Retrieval Function\n",
        "\n",
        "This cell defines the core logic for retrieving and extracting the most relevant information from SEC filings.\n",
        "\n",
        "-   **`companies` list**: This list holds the stock tickers of the companies we want to analyze. You can easily add or remove companies here.\n",
        "-   **`get_filings(ticker)` function**:\n",
        "    -   It uses the `QueryApi` to find the most recent **10-K annual report** for the given ticker.\n",
        "    -   It then uses the `ExtractorApi` to pull the raw text from two critical sections:\n",
        "        -   **Item 1A (`Risk Factors`)**: This section details the potential risks and uncertainties that could impact the company's business.\n",
        "        -   **Item 7 (`Management's Discussion and Analysis...`)**: This provides a narrative from management on the company's financial performance, results, and future outlook.\n",
        "    -   The function returns the extracted text from these two sections as a list, which is a perfect data source for a RAG system."
      ],
      "metadata": {
        "id": "WNjQZx4l3Xyp"
      }
    },
    {
      "cell_type": "code",
      "source": [
        "companies = [\n",
        "    \"AAPL\", # Apple Inc.\n",
        "    \"MSFT\", # Microsoft Corporation\n",
        "    \"GOOG\", # Alphabet Inc. (Google)\n",
        "    \"AMZN\", # Amazon.com, Inc.\n",
        "    \"META\", # Meta Platforms, Inc.\n",
        "]\n",
        "\n",
        "def get_filings(ticker):\n",
        "\n",
        "    try:\n",
        "        # Finding Recent Filings with QueryAPI\n",
        "        queryApi = QueryApi(api_key=sec_api_key)\n",
        "        query = {\n",
        "          \"query\": f\"ticker:{ticker} AND formType:\\\"10-K\\\"\",\n",
        "          \"from\": \"0\",\n",
        "          \"size\": \"1\",\n",
        "          \"sort\": [{ \"filedAt\": { \"order\": \"desc\" } }]\n",
        "        }\n",
        "        filings = queryApi.get_filings(query)\n",
        "\n",
        "        # Check if any filings were found\n",
        "        if not filings[\"filings\"]:\n",
        "            print(f\"No 10-K filings found for {ticker}.\")\n",
        "            return None\n",
        "\n",
        "        # Getting 10-K URL\n",
        "        filing_url = filings[\"filings\"][0][\"linkToFilingDetails\"]\n",
        "\n",
        "        # Extracting Text with ExtractorAPI\n",
        "        extractorApi = ExtractorApi(api_key=sec_api_key)\n",
        "\n",
        "        # Section 1A - Risk Factors\n",
        "        Risk_Factors = extractorApi.get_section(filing_url, \"1A\", \"text\")\n",
        "\n",
        "        # Section 7 - Management’s Discussion and Analysis of Financial Condition and Results of Operations\n",
        "        Management_Dis = extractorApi.get_section(filing_url, \"7\", \"text\")\n",
        "\n",
        "        # Joining Texts\n",
        "        filing_text = [Risk_Factors, Management_Dis]\n",
        "        return filing_text\n",
        "\n",
        "    except Exception as e:\n",
        "        print(f\"An error occurred while processing {ticker}: {e}\")\n",
        "        return None"
      ],
      "metadata": {
        "id": "RuHdSomsuaj8"
      },
      "execution_count": null,
      "outputs": []
    },
    {
      "cell_type": "code",
      "source": [
        "# Dictionary to store the filing data for each company\n",
        "all_companies_filing_data = {}\n",
        "\n",
        "# Loop through the list of companies and get their filing data\n",
        "for ticker in companies:\n",
        "    print(f\"-----\")\n",
        "    print(f\"Getting Filing Data for {ticker}\")\n",
        "    filing_data = get_filings(ticker)\n",
        "\n",
        "    # Store the data if it was successfully retrieved\n",
        "    if filing_data:\n",
        "        all_companies_filing_data[ticker] = filing_data\n",
        "\n",
        "    print(f\"Finished getting data for {ticker}\")"
      ],
      "metadata": {
        "colab": {
          "base_uri": "https://localhost:8080/"
        },
        "id": "_YgwZyRyXIYQ",
        "outputId": "7fa5343d-95b3-433a-f2dd-437e3e1be94e"
      },
      "execution_count": 20,
      "outputs": [
        {
          "output_type": "stream",
          "name": "stdout",
          "text": [
            "-----\n",
            "Getting Filing Data for AAPL\n",
            "Finished getting data for AAPL\n",
            "-----\n",
            "Getting Filing Data for MSFT\n",
            "Finished getting data for MSFT\n",
            "-----\n",
            "Getting Filing Data for GOOG\n",
            "Finished getting data for GOOG\n",
            "-----\n",
            "Getting Filing Data for AMZN\n",
            "Finished getting data for AMZN\n",
            "-----\n",
            "Getting Filing Data for META\n",
            "Finished getting data for META\n"
          ]
        }
      ]
    },
    {
      "cell_type": "code",
      "source": [
        "if \"AAPL\" in all_companies_filing_data:\n",
        "    print(\"\\n--- Apple (AAPL) Filing Data ---\")\n",
        "    print(all_companies_filing_data[\"AAPL\"][0][:500] + \"...\")"
      ],
      "metadata": {
        "colab": {
          "base_uri": "https://localhost:8080/"
        },
        "id": "6MOazbok10ti",
        "outputId": "1ea2834b-e537-4622-d498-8ba8e7d1f1ed"
      },
      "execution_count": null,
      "outputs": [
        {
          "output_type": "stream",
          "name": "stdout",
          "text": [
            "\n",
            "--- Apple (AAPL) Filing Data ---\n",
            " Item 1A. Risk Factors \n",
            "\n",
            "The Company&#8217;s business, reputation, results of operations, financial condition and stock price can be affected by a number of factors, whether currently known or unknown, including those described below. When any one or more of these risks materialize from time to time, the Company&#8217;s business, reputation, results of operations, financial condition and stock price can be materially and adversely affected. \n",
            "\n",
            "Because of the following factors, as well as other fa...\n"
          ]
        }
      ]
    },
    {
      "cell_type": "code",
      "source": [
        "print(\"--- Character count for each company's filings ---\")\n",
        "\n",
        "total = 0\n",
        "for company in companies:\n",
        "  length = (len(all_companies_filing_data[company][0][0]) + len(all_companies_filing_data[company][0][1]))\n",
        "  total += length\n",
        "  print(f\"{company}: {length} characters\")\n",
        "print(f\"\\nTotal character count for all companies: {total}\")"
      ],
      "metadata": {
        "colab": {
          "base_uri": "https://localhost:8080/"
        },
        "id": "vW9kCToo6Lo2",
        "outputId": "109bc3fa-44aa-46e9-ee38-97b551a2b385"
      },
      "execution_count": 24,
      "outputs": [
        {
          "output_type": "stream",
          "name": "stdout",
          "text": [
            "--- Character count for each company's filings ---\n",
            "AAPL: 86707 characters\n",
            "MSFT: 124930 characters\n",
            "GOOG: 144093 characters\n",
            "AMZN: 109633 characters\n",
            "META: 253056 characters\n",
            "\n",
            "Total character count for all companies: 718419\n"
          ]
        }
      ]
    },
    {
      "cell_type": "markdown",
      "source": [
        "## Saving Extracted Filing Data to Files\n",
        "\n",
        "The following code cell will iterate through the `all_companies_filing_data` dictionary and save the extracted text for each company into separate files.\n",
        "\n",
        "A new folder named `companies` will be created if it doesn't already exist. For each company, two `.txt` files will be saved in this folder:\n",
        "\n",
        "* `[TICKER]_risks.txt`: Contains the text from Section 1A (Risk Factors).\n",
        "\n",
        "* `[TICKER]_management_dis.txt`: Contains the text from Section 7 (Management’s Discussion and Analysis of Financial Condition and Results of Operations).\n"
      ],
      "metadata": {
        "id": "pH2_M24FBKGl"
      }
    },
    {
      "cell_type": "code",
      "source": [
        "# Define the folder name\n",
        "output_folder = \"companies\"\n",
        "\n",
        "# Import the os module if it's not already imported\n",
        "import os\n",
        "\n",
        "# Create the folder if it doesn't exist\n",
        "os.makedirs(output_folder, exist_ok=True)\n",
        "\n",
        "# Loop through the combined filing data and save each company's text to a file\n",
        "for ticker, data in all_companies_filing_data.items():\n",
        "    print(f\"Saving filing data for {ticker}...\")\n",
        "\n",
        "    # The Risk Factors text is the first item in the list\n",
        "    risks_text = data[0]\n",
        "    # The Management's Discussion is the second item in the list\n",
        "    management_dis_text = data[1]\n",
        "\n",
        "    # Create the filenames for the two sections\n",
        "    risks_filename = os.path.join(output_folder, f\"{ticker}_risks.txt\")\n",
        "    management_dis_filename = os.path.join(output_folder, f\"{ticker}_management_dis.txt\")\n",
        "\n",
        "    # Save the Risk Factors to its own file\n",
        "    with open(risks_filename, \"w\", encoding=\"utf-8\") as f:\n",
        "        f.write(risks_text)\n",
        "\n",
        "    # Save the Management's Discussion to its own file\n",
        "    with open(management_dis_filename, \"w\", encoding=\"utf-8\") as f:\n",
        "        f.write(management_dis_text)\n",
        "\n",
        "    print(f\"Saved {risks_filename} and {management_dis_filename}\")\n",
        "\n",
        "print(\"\\nAll files have been saved to the 'companies' folder.\")"
      ],
      "metadata": {
        "colab": {
          "base_uri": "https://localhost:8080/"
        },
        "id": "QE9AnhXo3e7C",
        "outputId": "7420b41b-0384-4770-cf57-697ceae2b7a5"
      },
      "execution_count": null,
      "outputs": [
        {
          "output_type": "stream",
          "name": "stdout",
          "text": [
            "Saving filing data for AAPL...\n",
            "Saved companies/AAPL_risks.txt and companies/AAPL_management_dis.txt\n",
            "Saving filing data for MSFT...\n",
            "Saved companies/MSFT_risks.txt and companies/MSFT_management_dis.txt\n",
            "Saving filing data for GOOG...\n",
            "Saved companies/GOOG_risks.txt and companies/GOOG_management_dis.txt\n",
            "Saving filing data for AMZN...\n",
            "Saved companies/AMZN_risks.txt and companies/AMZN_management_dis.txt\n",
            "Saving filing data for META...\n",
            "Saved companies/META_risks.txt and companies/META_management_dis.txt\n",
            "\n",
            "All files have been saved to the 'companies' folder.\n"
          ]
        }
      ]
    },
    {
      "cell_type": "markdown",
      "source": [
        "## Loading Extracted Files into filing data"
      ],
      "metadata": {
        "id": "D4juuIXs83O2"
      }
    },
    {
      "cell_type": "code",
      "source": [
        "# Define the folder name\n",
        "output_folder = \"/content/companies\"\n",
        "\n",
        "# Dictionary to store the loaded filing data for each company\n",
        "loaded_filing_data = {}\n",
        "\n",
        "# Check if the folder exists\n",
        "if not os.path.exists(output_folder):\n",
        "    print(f\"The folder '{output_folder}' was not found. Please run the previous cell to save the data first.\")\n",
        "else:\n",
        "    print(f\"Loading data from '{output_folder}' folder...\")\n",
        "\n",
        "    # Dictionary to temporarily hold text for a company before combining\n",
        "    company_data_temp = {}\n",
        "\n",
        "    # Loop through the files in the 'companies' folder\n",
        "    for filename in os.listdir(output_folder):\n",
        "        if filename.endswith(\".txt\"):\n",
        "            filepath = os.path.join(output_folder, filename)\n",
        "\n",
        "            # Parse the filename to get the ticker and category\n",
        "            parts = filename.split('_')\n",
        "            ticker = parts[0]\n",
        "            if len(parts) == 2:\n",
        "              category = parts[1].split('.')[0]\n",
        "            else:\n",
        "              category = parts[1] + '_' + parts[2].split('.')[0]\n",
        "\n",
        "            # Read the content of the file\n",
        "            with open(filepath, 'r', encoding='utf-8') as f:\n",
        "                content = f.read()\n",
        "\n",
        "            # Store the content in a temporary dictionary\n",
        "            if ticker not in company_data_temp:\n",
        "                company_data_temp[ticker] = {}\n",
        "            company_data_temp[ticker][category] = content\n",
        "\n",
        "    # Combine the temporary data into the final dictionary\n",
        "    for ticker, data in company_data_temp.items():\n",
        "        # Ensure both risks and management discussion files were found\n",
        "        if 'risks' in data and 'management_dis' in data:\n",
        "            loaded_filing_data[ticker] = [data['risks'], data['management_dis']]\n",
        "            print(f\"Successfully loaded data for {ticker}\")\n",
        "        else:\n",
        "            print(f\"Warning: Could not find both 'risks' and 'management_dis' files for {ticker}. Skipping.\")\n",
        "\n",
        "    print(\"\\nFinished loading data.\")\n",
        "\n",
        "# Assign the loaded data to the variable name used in the next cell\n",
        "all_companies_filing_data = loaded_filing_data\n",
        "\n",
        "# Print a quick check to confirm the data is loaded\n",
        "if \"AAPL\" in all_companies_filing_data:\n",
        "    print(\"\\n--- Apple (AAPL) Filing Data (First 500 characters) ---\")\n",
        "    print(all_companies_filing_data[\"AAPL\"][0][:500] + \"...\")\n",
        "else:\n",
        "    print(\"\\nNo data found for AAPL. Check your file paths.\")"
      ],
      "metadata": {
        "colab": {
          "base_uri": "https://localhost:8080/"
        },
        "id": "w_TozPRK7K1r",
        "outputId": "b9001ee9-cb0c-4716-a37b-9a11293bf82b"
      },
      "execution_count": 26,
      "outputs": [
        {
          "output_type": "stream",
          "name": "stdout",
          "text": [
            "Loading data from '/content/companies' folder...\n",
            "Successfully loaded data for META\n",
            "Successfully loaded data for MSFT\n",
            "Successfully loaded data for AMZN\n",
            "Successfully loaded data for GOOG\n",
            "Successfully loaded data for AAPL\n",
            "\n",
            "Finished loading data.\n",
            "\n",
            "--- Apple (AAPL) Filing Data (First 500 characters) ---\n",
            " Item 1A. Risk Factors \n",
            "\n",
            "The Company&#8217;s business, reputation, results of operations, financial condition and stock price can be affected by a number of factors, whether currently known or unknown, including those described below. When any one or more of these risks materialize from time to time, the Company&#8217;s business, reputation, results of operations, financial condition and stock price can be materially and adversely affected. \n",
            "\n",
            "Because of the following factors, as well as other fa...\n"
          ]
        }
      ]
    },
    {
      "cell_type": "code",
      "source": [
        "!pip install -q chromadb sentence-transformers langchain-text-splitters"
      ],
      "metadata": {
        "id": "i_5iQF3sE7FK",
        "colab": {
          "base_uri": "https://localhost:8080/"
        },
        "outputId": "a0ce62b9-d98c-4b19-b93b-1c12904970f4"
      },
      "execution_count": 3,
      "outputs": [
        {
          "output_type": "stream",
          "name": "stdout",
          "text": [
            "\u001b[?25l     \u001b[90m━━━━━━━━━━━━━━━━━━━━━━━━━━━━━━━━━━━━━━━━\u001b[0m \u001b[32m0.0/67.3 kB\u001b[0m \u001b[31m?\u001b[0m eta \u001b[36m-:--:--\u001b[0m\r\u001b[2K     \u001b[90m━━━━━━━━━━━━━━━━━━━━━━━━━━━━━━━━━━━━━━━━\u001b[0m \u001b[32m67.3/67.3 kB\u001b[0m \u001b[31m5.8 MB/s\u001b[0m eta \u001b[36m0:00:00\u001b[0m\n",
            "\u001b[?25h  Installing build dependencies ... \u001b[?25l\u001b[?25hdone\n",
            "  Getting requirements to build wheel ... \u001b[?25l\u001b[?25hdone\n",
            "  Preparing metadata (pyproject.toml) ... \u001b[?25l\u001b[?25hdone\n",
            "\u001b[2K   \u001b[90m━━━━━━━━━━━━━━━━━━━━━━━━━━━━━━━━━━━━━━━━\u001b[0m \u001b[32m19.6/19.6 MB\u001b[0m \u001b[31m63.1 MB/s\u001b[0m eta \u001b[36m0:00:00\u001b[0m\n",
            "\u001b[2K   \u001b[90m━━━━━━━━━━━━━━━━━━━━━━━━━━━━━━━━━━━━━━━━\u001b[0m \u001b[32m284.2/284.2 kB\u001b[0m \u001b[31m25.3 MB/s\u001b[0m eta \u001b[36m0:00:00\u001b[0m\n",
            "\u001b[2K   \u001b[90m━━━━━━━━━━━━━━━━━━━━━━━━━━━━━━━━━━━━━━━━\u001b[0m \u001b[32m1.9/1.9 MB\u001b[0m \u001b[31m79.2 MB/s\u001b[0m eta \u001b[36m0:00:00\u001b[0m\n",
            "\u001b[2K   \u001b[90m━━━━━━━━━━━━━━━━━━━━━━━━━━━━━━━━━━━━━━━━\u001b[0m \u001b[32m103.1/103.1 kB\u001b[0m \u001b[31m9.8 MB/s\u001b[0m eta \u001b[36m0:00:00\u001b[0m\n",
            "\u001b[2K   \u001b[90m━━━━━━━━━━━━━━━━━━━━━━━━━━━━━━━━━━━━━━━━\u001b[0m \u001b[32m16.5/16.5 MB\u001b[0m \u001b[31m86.3 MB/s\u001b[0m eta \u001b[36m0:00:00\u001b[0m\n",
            "\u001b[2K   \u001b[90m━━━━━━━━━━━━━━━━━━━━━━━━━━━━━━━━━━━━━━━━\u001b[0m \u001b[32m65.6/65.6 kB\u001b[0m \u001b[31m5.8 MB/s\u001b[0m eta \u001b[36m0:00:00\u001b[0m\n",
            "\u001b[2K   \u001b[90m━━━━━━━━━━━━━━━━━━━━━━━━━━━━━━━━━━━━━━━━\u001b[0m \u001b[32m72.5/72.5 kB\u001b[0m \u001b[31m6.7 MB/s\u001b[0m eta \u001b[36m0:00:00\u001b[0m\n",
            "\u001b[2K   \u001b[90m━━━━━━━━━━━━━━━━━━━━━━━━━━━━━━━━━━━━━━━━\u001b[0m \u001b[32m120.0/120.0 kB\u001b[0m \u001b[31m10.9 MB/s\u001b[0m eta \u001b[36m0:00:00\u001b[0m\n",
            "\u001b[2K   \u001b[90m━━━━━━━━━━━━━━━━━━━━━━━━━━━━━━━━━━━━━━━━\u001b[0m \u001b[32m201.6/201.6 kB\u001b[0m \u001b[31m18.5 MB/s\u001b[0m eta \u001b[36m0:00:00\u001b[0m\n",
            "\u001b[2K   \u001b[90m━━━━━━━━━━━━━━━━━━━━━━━━━━━━━━━━━━━━━━━━\u001b[0m \u001b[32m105.4/105.4 kB\u001b[0m \u001b[31m10.3 MB/s\u001b[0m eta \u001b[36m0:00:00\u001b[0m\n",
            "\u001b[2K   \u001b[90m━━━━━━━━━━━━━━━━━━━━━━━━━━━━━━━━━━━━━━━━\u001b[0m \u001b[32m71.4/71.4 kB\u001b[0m \u001b[31m6.5 MB/s\u001b[0m eta \u001b[36m0:00:00\u001b[0m\n",
            "\u001b[2K   \u001b[90m━━━━━━━━━━━━━━━━━━━━━━━━━━━━━━━━━━━━━━━━\u001b[0m \u001b[32m363.4/363.4 MB\u001b[0m \u001b[31m5.2 MB/s\u001b[0m eta \u001b[36m0:00:00\u001b[0m\n",
            "\u001b[2K   \u001b[90m━━━━━━━━━━━━━━━━━━━━━━━━━━━━━━━━━━━━━━━━\u001b[0m \u001b[32m13.8/13.8 MB\u001b[0m \u001b[31m82.7 MB/s\u001b[0m eta \u001b[36m0:00:00\u001b[0m\n",
            "\u001b[2K   \u001b[90m━━━━━━━━━━━━━━━━━━━━━━━━━━━━━━━━━━━━━━━━\u001b[0m \u001b[32m24.6/24.6 MB\u001b[0m \u001b[31m57.3 MB/s\u001b[0m eta \u001b[36m0:00:00\u001b[0m\n",
            "\u001b[2K   \u001b[90m━━━━━━━━━━━━━━━━━━━━━━━━━━━━━━━━━━━━━━━━\u001b[0m \u001b[32m883.7/883.7 kB\u001b[0m \u001b[31m40.8 MB/s\u001b[0m eta \u001b[36m0:00:00\u001b[0m\n",
            "\u001b[2K   \u001b[90m━━━━━━━━━━━━━━━━━━━━━━━━━━━━━━━━━━━━━━━━\u001b[0m \u001b[32m664.8/664.8 MB\u001b[0m \u001b[31m2.8 MB/s\u001b[0m eta \u001b[36m0:00:00\u001b[0m\n",
            "\u001b[2K   \u001b[90m━━━━━━━━━━━━━━━━━━━━━━━━━━━━━━━━━━━━━━━━\u001b[0m \u001b[32m211.5/211.5 MB\u001b[0m \u001b[31m6.7 MB/s\u001b[0m eta \u001b[36m0:00:00\u001b[0m\n",
            "\u001b[2K   \u001b[90m━━━━━━━━━━━━━━━━━━━━━━━━━━━━━━━━━━━━━━━━\u001b[0m \u001b[32m56.3/56.3 MB\u001b[0m \u001b[31m12.9 MB/s\u001b[0m eta \u001b[36m0:00:00\u001b[0m\n",
            "\u001b[2K   \u001b[90m━━━━━━━━━━━━━━━━━━━━━━━━━━━━━━━━━━━━━━━━\u001b[0m \u001b[32m127.9/127.9 MB\u001b[0m \u001b[31m7.4 MB/s\u001b[0m eta \u001b[36m0:00:00\u001b[0m\n",
            "\u001b[2K   \u001b[90m━━━━━━━━━━━━━━━━━━━━━━━━━━━━━━━━━━━━━━━━\u001b[0m \u001b[32m207.5/207.5 MB\u001b[0m \u001b[31m5.4 MB/s\u001b[0m eta \u001b[36m0:00:00\u001b[0m\n",
            "\u001b[2K   \u001b[90m━━━━━━━━━━━━━━━━━━━━━━━━━━━━━━━━━━━━━━━━\u001b[0m \u001b[32m188.7/188.7 MB\u001b[0m \u001b[31m6.0 MB/s\u001b[0m eta \u001b[36m0:00:00\u001b[0m\n",
            "\u001b[2K   \u001b[90m━━━━━━━━━━━━━━━━━━━━━━━━━━━━━━━━━━━━━━━━\u001b[0m \u001b[32m21.1/21.1 MB\u001b[0m \u001b[31m76.2 MB/s\u001b[0m eta \u001b[36m0:00:00\u001b[0m\n",
            "\u001b[2K   \u001b[90m━━━━━━━━━━━━━━━━━━━━━━━━━━━━━━━━━━━━━━━━\u001b[0m \u001b[32m459.8/459.8 kB\u001b[0m \u001b[31m30.9 MB/s\u001b[0m eta \u001b[36m0:00:00\u001b[0m\n",
            "\u001b[2K   \u001b[90m━━━━━━━━━━━━━━━━━━━━━━━━━━━━━━━━━━━━━━━━\u001b[0m \u001b[32m4.0/4.0 MB\u001b[0m \u001b[31m83.0 MB/s\u001b[0m eta \u001b[36m0:00:00\u001b[0m\n",
            "\u001b[2K   \u001b[90m━━━━━━━━━━━━━━━━━━━━━━━━━━━━━━━━━━━━━━━━\u001b[0m \u001b[32m453.1/453.1 kB\u001b[0m \u001b[31m32.3 MB/s\u001b[0m eta \u001b[36m0:00:00\u001b[0m\n",
            "\u001b[2K   \u001b[90m━━━━━━━━━━━━━━━━━━━━━━━━━━━━━━━━━━━━━━━━\u001b[0m \u001b[32m46.0/46.0 kB\u001b[0m \u001b[31m3.5 MB/s\u001b[0m eta \u001b[36m0:00:00\u001b[0m\n",
            "\u001b[2K   \u001b[90m━━━━━━━━━━━━━━━━━━━━━━━━━━━━━━━━━━━━━━━━\u001b[0m \u001b[32m86.8/86.8 kB\u001b[0m \u001b[31m6.6 MB/s\u001b[0m eta \u001b[36m0:00:00\u001b[0m\n",
            "\u001b[?25h  Building wheel for pypika (pyproject.toml) ... \u001b[?25l\u001b[?25hdone\n"
          ]
        }
      ]
    },
    {
      "cell_type": "code",
      "source": [
        "import os\n",
        "from sentence_transformers import SentenceTransformer\n",
        "import chromadb\n",
        "from chromadb.utils import embedding_functions\n",
        "from langchain_text_splitters import RecursiveCharacterTextSplitter\n",
        "import html"
      ],
      "metadata": {
        "id": "qjm97lx14I4Q"
      },
      "execution_count": 27,
      "outputs": []
    },
    {
      "cell_type": "markdown",
      "source": [
        "# Step 1: Prepare Documents by Chunking Text"
      ],
      "metadata": {
        "id": "fL4lQlRtAyys"
      }
    },
    {
      "cell_type": "code",
      "source": [
        "# Helper function to clean text before chunking\n",
        "def clean_text(text):\n",
        "    \"\"\"Decodes HTML entities and cleans up extra whitespace.\"\"\"\n",
        "    # Decode HTML entities (e.g., &#8226; becomes •)\n",
        "    cleaned_text = html.unescape(text)\n",
        "\n",
        "    cleaned_text = ' '.join(cleaned_text.split())\n",
        "    return cleaned_text\n",
        "\n",
        "\n",
        "documents = []\n",
        "metadatas = []\n",
        "ids = []\n",
        "doc_id_counter = 0\n",
        "\n",
        "# Define chunking parameters\n",
        "chunk_size = 2500\n",
        "chunk_overlap = 200\n",
        "\n",
        "# Initialize the text splitter\n",
        "text_splitter = RecursiveCharacterTextSplitter(\n",
        "    chunk_size=chunk_size,\n",
        "    chunk_overlap=chunk_overlap,\n",
        "    separators=[\"\\n\\n\", \"\\n\", \". \", \" \", \"\"]\n",
        ")\n",
        "\n",
        "# Loop through the all_companies_filing_data dictionary\n",
        "for ticker, filing_data in all_companies_filing_data.items():\n",
        "    # The first item is the Risk Factors text\n",
        "    risks_text = filing_data[0]\n",
        "    # The second item is the Management's Discussion text\n",
        "    management_dis_text = filing_data[1]\n",
        "\n",
        "    # Apply cleaning function to the raw text\n",
        "    risks_text_cleaned = clean_text(risks_text)\n",
        "    management_dis_text_cleaned = clean_text(management_dis_text)\n",
        "\n",
        "    # Process and chunk the cleaned Risk Factors text\n",
        "    risks_chunks = text_splitter.split_text(risks_text_cleaned)\n",
        "    for chunk in risks_chunks:\n",
        "        documents.append(chunk)\n",
        "        metadatas.append({\n",
        "            \"company\": ticker,\n",
        "            \"category\": \"risks\"\n",
        "        })\n",
        "        ids.append(f\"doc_{doc_id_counter}\")\n",
        "        doc_id_counter += 1\n",
        "\n",
        "    # Process and chunk the cleaned Management Discussion text\n",
        "    management_dis_chunks = text_splitter.split_text(management_dis_text_cleaned)\n",
        "    for chunk in management_dis_chunks:\n",
        "        documents.append(chunk)\n",
        "        metadatas.append({\n",
        "            \"company\": ticker,\n",
        "            \"category\": \"management_dis\"\n",
        "        })\n",
        "        ids.append(f\"doc_{doc_id_counter}\")\n",
        "        doc_id_counter += 1\n",
        "\n",
        "print(f\"Split {len(documents)} text chunks from the in-memory data.\")"
      ],
      "metadata": {
        "colab": {
          "base_uri": "https://localhost:8080/"
        },
        "id": "hNT6EJw5ADRU",
        "outputId": "49523530-91e0-4fc6-acc9-a568af8abdc2"
      },
      "execution_count": 28,
      "outputs": [
        {
          "output_type": "stream",
          "name": "stdout",
          "text": [
            "Split 316 text chunks from the in-memory data.\n"
          ]
        }
      ]
    },
    {
      "cell_type": "code",
      "source": [
        "print(f\"Text: {documents[0]}\")\n",
        "print(f\"\\nMetadata: {metadatas[0]}\")"
      ],
      "metadata": {
        "colab": {
          "base_uri": "https://localhost:8080/"
        },
        "id": "L4HFatQPBeum",
        "outputId": "ff70cdaa-083a-4800-8e1f-10c9b8264bd7"
      },
      "execution_count": 36,
      "outputs": [
        {
          "output_type": "stream",
          "name": "stdout",
          "text": [
            "Text: Item 1A. Risk Factors Certain factors may have a material adverse effect on our business, financial condition, and results of operations. You should consider carefully the risks and uncertainties described below, in addition to other information contained in this Annual Report on Form 10-K, including our consolidated financial statements and related notes. The risks and uncertainties described below are not the only ones we face. Additional risks and uncertainties that we are unaware of, or that we currently believe are not material, may also become important factors that adversely affect our business. If any of the following risks actually occurs, our business, financial condition, results of operations, and future prospects could be materially and adversely affected. In that event, the trading price of our Class A common stock could decline, and you could lose part or all of your investment. Summary Risk Factors Our business is subject to a number of risks, including risks that may prevent us from achieving our business objectives or may adversely affect our business, financial condition, results of operations, cash flows, and prospects\n",
            "\n",
            "Metadata: {'company': 'META', 'category': 'risks'}\n"
          ]
        }
      ]
    },
    {
      "cell_type": "markdown",
      "source": [
        "# Step 2: Initialize Embedding Model and ChromaDB Clien"
      ],
      "metadata": {
        "id": "0QkatGIPBINB"
      }
    },
    {
      "cell_type": "code",
      "source": [
        "# Use the same SentenceTransformer model\n",
        "model_name = 'BAAI/bge-small-en-v1.5'\n",
        "ef = embedding_functions.SentenceTransformerEmbeddingFunction(model_name=model_name)\n",
        "\n",
        "# Initialize a persistent ChromaDB client\n",
        "chroma_client = chromadb.PersistentClient(path=\"./chroma_db\")\n",
        "\n",
        "# Get or create the collection\n",
        "collection_name = \"financial_filings\"\n",
        "collection = chroma_client.get_or_create_collection(\n",
        "    name=collection_name,\n",
        "    embedding_function=ef\n",
        ")"
      ],
      "metadata": {
        "id": "jyd91I2VE-28"
      },
      "execution_count": 38,
      "outputs": []
    },
    {
      "cell_type": "markdown",
      "source": [
        "# Step 3: Add documents to ChromaDB collection"
      ],
      "metadata": {
        "id": "KpweBxLXBXZR"
      }
    },
    {
      "cell_type": "code",
      "source": [
        "# Add documents in batches to avoid overwhelming the system\n",
        "batch_size = 100\n",
        "for i in range(0, len(documents), batch_size):\n",
        "    print(f\"Adding batch {i // batch_size + 1} of documents...\")\n",
        "    batch_docs = documents[i:i + batch_size]\n",
        "    batch_metadatas = metadatas[i:i + batch_size]\n",
        "    batch_ids = ids[i:i + batch_size]\n",
        "\n",
        "    collection.add(\n",
        "        documents=batch_docs,\n",
        "        metadatas=batch_metadatas,\n",
        "        ids=batch_ids\n",
        "    )\n",
        "\n",
        "print(\"\\nChromaDB collection created and populated successfully!\")\n",
        "print(f\"The collection '{collection_name}' now contains {collection.count()} documents.\")"
      ],
      "metadata": {
        "colab": {
          "base_uri": "https://localhost:8080/"
        },
        "id": "qbPM_S48BT3e",
        "outputId": "b1ef170f-c299-4e1c-8f96-5df934e7a49a"
      },
      "execution_count": 39,
      "outputs": [
        {
          "output_type": "stream",
          "name": "stdout",
          "text": [
            "Adding batch 1 of documents...\n",
            "Adding batch 2 of documents...\n",
            "Adding batch 3 of documents...\n",
            "Adding batch 4 of documents...\n",
            "\n",
            "ChromaDB collection created and populated successfully!\n",
            "The collection 'financial_filings' now contains 316 documents.\n"
          ]
        }
      ]
    },
    {
      "cell_type": "markdown",
      "source": [
        "# Quering vector database"
      ],
      "metadata": {
        "id": "999kwokphbkw"
      }
    },
    {
      "cell_type": "code",
      "source": [
        "query_text = \"What are the biggest risks for a tech company?\"\n",
        "\n",
        "# Correct the 'where' clause by nesting the individual filters inside an '$and' operator.\n",
        "# This tells ChromaDB to find documents where BOTH conditions are met.\n",
        "results = collection.query(\n",
        "    query_texts=[query_text],\n",
        "    n_results=5,\n",
        "    where={\n",
        "        \"$and\": [\n",
        "            {\"company\": {\"$eq\": \"AAPL\"}},  # Condition 1: company is AAPL\n",
        "            {\"category\": {\"$eq\": \"risks\"}}    # Condition 2: category is risks\n",
        "        ]\n",
        "    }\n",
        ")"
      ],
      "metadata": {
        "id": "hYiHdwGCCKiI"
      },
      "execution_count": 41,
      "outputs": []
    },
    {
      "cell_type": "code",
      "source": [
        "print(\"\\nFiltered Query Results:\")\n",
        "# The results['documents'] is a list of lists, where the outer list corresponds to the query.\n",
        "# Since we only have one query, we access the first element with [0].\n",
        "print(\"\\n\", \"-\" * 20)\n",
        "for result_doc, result_metadata in zip(results['documents'][0], results['metadatas'][0]):\n",
        "    print(f\"Company: {result_metadata['company']}, Category: {result_metadata['category']}\")\n",
        "    print(f\"Document: {result_doc}...\")\n",
        "    print(\"-\" * 20)"
      ],
      "metadata": {
        "colab": {
          "base_uri": "https://localhost:8080/"
        },
        "id": "hQ0I0_HERdCB",
        "outputId": "04303a47-df14-43dc-fbfe-9febd23e5147"
      },
      "execution_count": 46,
      "outputs": [
        {
          "output_type": "stream",
          "name": "stdout",
          "text": [
            "\n",
            "Filtered Query Results:\n",
            "\n",
            " --------------------\n",
            "Company: AAPL, Category: risks\n",
            "Document: . As a result, from time to time the Company’s services have not performed as anticipated and may not meet customer expectations. The introduction of new and complex technologies, such as artificial intelligence features, can increase these and other safety risks, including exposing users to harmful, inaccurate or other negative content and experiences. There can be no assurance the Company will be able to detect and fix all issues and defects in the hardware, software and services it offers. Failure to do so can result in widespread technical and performance issues affecting the Company’s products and services. Errors, bugs and vulnerabilities can be exploited by third parties, compromising the safety and security of a user’s device. In addition, the Company can be exposed to product liability claims, recalls, product replacements or modifications, write-offs of inventory, property, plant and equipment or intangible assets, and significant warranty and other expenses, including litigation costs and regulatory fines. Quality problems can adversely affect the experience for users of the Company’s products and services, and result in harm to the Company’s reputation, loss of competitive advantage, poor market acceptance, reduced demand for products and services, delay in new product and service introductions and lost sales. The Company is exposed to the risk of write-downs on the value of its inventory and other assets, in addition to purchase commitment cancellation risk. The Company records a write-down for product and component inventories that have become obsolete or exceed anticipated demand, or for which cost exceeds net realizable value. The Company also accrues necessary cancellation fee reserves for orders of excess products and components. The Company reviews long-lived assets, including capital assets held at its suppliers’ facilities and inventory prepayments, for impairment whenever events or circumstances indicate the assets may not be recoverable. If the Company determines that an impairment has occurred, it records a write-down equal to the amount by which the carrying value of the asset exceeds its fair value...\n",
            "--------------------\n",
            "Company: AAPL, Category: risks\n",
            "Document: . The Company’s business and reputation are impacted by information technology system failures and network disruptions. The Company and its global supply chain are dependent on complex information technology systems and are exposed to information technology system failures or network disruptions caused by natural disasters, accidents, power disruptions, telecommunications failures, acts of terrorism or war, computer viruses, physical or electronic break-ins, ransomware or other cybersecurity incidents, or other events or disruptions. System upgrades, redundancy and other continuity measures may be ineffective or inadequate, and the Company’s or its vendors’ business continuity and disaster recovery planning may not be sufficient for all eventualities. Such failures or disruptions can adversely impact the Company’s business by, among other things, preventing access to the Company’s online services, interfering with customer transactions or impeding the manufacturing and shipping of the Company’s products. These events could materially adversely affect the Company’s business, reputation, results of operations and financial condition. Losses or unauthorized access to or releases of confidential information, including personal information, could subject the Company to significant reputational, financial, legal and operational consequences. The Company’s business requires it to use and store confidential information, including personal information with respect to the Company’s customers and employees. The Company devotes significant resources to systems and data security, including through the use of encryption and other security measures intended to protect its systems and data. But these measures cannot provide absolute security, and losses or unauthorized access to or releases of confidential information occur and could materially adversely affect the Company’s business, reputation, results of operations and financial condition. The Company’s business also requires it to share confidential information with suppliers and other third parties. The Company relies on global suppliers that are also exposed to ransomware and other malicious attacks that can disrupt business operations. Although the Company takes steps to secure confidential information that is provided to or accessible by third parties working on the Company’s behalf, such measures are not always effective and losses or unauthorized access to, or releases of, confidential information occur...\n",
            "--------------------\n",
            "Company: AAPL, Category: risks\n",
            "Document: . Experienced personnel in the technology industry are in high demand and competition for their talents is intense, especially in Silicon Valley, where most of the Company’s key personnel are located. In addition to intense competition for talent, workforce dynamics are constantly evolving. If the Company does not manage changing workforce dynamics effectively, it could materially adversely affect the Company’s culture, reputation and operational flexibility. The Company believes that its distinctive and inclusive culture is a significant driver of its success. If the Company is unable to nurture its culture, it could materially adversely affect the Company’s ability to recruit and retain the highly skilled employees who are critical to its success, and could otherwise materially adversely affect the Company’s business, reputation, results of operations and financial condition. The Company depends on the performance of carriers, wholesalers, retailers and other resellers. The Company distributes its products and certain of its services through cellular network carriers, wholesalers, retailers and resellers, many of which distribute products and services from competitors. The Company also sells its products and services and resells third-party products in most of its major markets directly to consumers, small and mid-sized businesses, and education, enterprise and government customers through its retail and online stores and its direct sales force. Some carriers providing cellular network service for the Company’s products offer financing, installment payment plans or subsidies for users’ purchases of the device. There can be no assurance such offers will be continued at all or in the same amounts. The Company has invested and will continue to invest in programs to enhance reseller sales, including staffing selected resellers’ stores with Company employees and contractors, and improving product placement displays. These programs can require a substantial investment while not assuring return or incremental sales. The financial condition of these resellers could weaken, these resellers could stop distributing the Company’s products, or uncertainty regarding demand for some or all of the Company’s products could cause resellers to reduce their ordering and marketing of the Company’s products. The Company’s business and reputation are impacted by information technology system failures and network disruptions...\n",
            "--------------------\n",
            "Company: AAPL, Category: risks\n",
            "Document: . The Company’s operations are also subject to the risks of industrial accidents at its suppliers and contract manufacturers. While the Company’s suppliers are required to maintain safe working environments and operations, an industrial accident could occur and could result in serious injuries or loss of life, disruption to the Company’s business, and harm to the Company’s reputation. Major public health issues, including pandemics such as the COVID-19 pandemic, have adversely affected, and could in the future materially adversely affect, the Company due to their impact on the global economy and demand for consumer products; the imposition of protective public safety measures, such as stringent employee travel restrictions and limitations on freight services and the movement of products between regions; and disruptions in the Company’s operations, supply chain and sales and distribution channels, resulting in interruptions to the supply of current products and offering of existing services, and delays in production ramps of new products and development of new services. Following any interruption to its business, the Company can require substantial recovery time, experience significant expenditures to resume operations, and lose significant sales. Because the Company relies on single or limited sources for the supply and manufacture of many critical components, a business interruption affecting such sources would exacerbate any negative consequences to the Company. While the Company maintains insurance coverage for certain types of losses, such insurance coverage may be insufficient to cover all losses that may arise. Apple Inc. | 2024 Form 10-K | 6 Global markets for the Company’s products and services are highly competitive and subject to rapid technological change, and the Company may be unable to compete effectively in these markets. The Company’s products and services are offered in highly competitive global markets characterized by aggressive price competition and resulting downward pressure on gross margins, frequent introduction of new products and services, short product life cycles, evolving industry standards, continual improvement in product price and performance characteristics, rapid adoption of technological advancements by competitors, and price sensitivity on the part of consumers and businesses...\n",
            "--------------------\n",
            "Company: AAPL, Category: risks\n",
            "Document: . Such incidents and other malicious attacks could materially adversely affect the Company’s business, reputation, results of operations and financial condition. Apple Inc. | 2024 Form 10-K | 11 The Company experiences malicious attacks and other attempts to gain unauthorized access to its systems on a regular basis. These attacks seek to compromise the confidentiality, integrity or availability of confidential information or disrupt normal business operations, and can, among other things, impair the Company’s ability to attract and retain customers for its products and services, impact the Company’s stock price, materially damage commercial relationships, and expose the Company to litigation or government investigations, which can result in penalties, fines or judgments against the Company. Globally, attacks are expected to continue accelerating in both frequency and sophistication with increasing use by actors of tools and techniques that are designed to circumvent controls, avoid detection, and remove or obfuscate forensic evidence, all of which hinders the Company’s ability to identify, investigate and recover from incidents. In addition, attacks against the Company and its customers can escalate during periods of geopolitical tensions or conflict. Although malicious attacks perpetrated to gain access to confidential information, including personal information, affect many companies across various industries, the Company is at a relatively greater risk of being targeted because of its high profile and the value of the confidential information it creates, owns, manages, stores and processes. The Company has implemented systems and processes intended to secure its information technology systems and prevent unauthorized access to or loss of sensitive data, and mitigate the impact of unauthorized access, including through the use of encryption and authentication technologies. As with all companies, these security measures may not be sufficient for all eventualities and are vulnerable to hacking, ransomware attacks, employee error, malfeasance, system error, faulty password management or other irregularities. For example, third parties can fraudulently induce the Company’s or its suppliers’ and other third parties’ employees or customers into disclosing usernames, passwords or other sensitive information, which can, in turn, be used for unauthorized access to the Company’s or such suppliers’ or third parties’ systems and services...\n",
            "--------------------\n"
          ]
        }
      ]
    }
  ]
}